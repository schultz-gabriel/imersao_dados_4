{
  "nbformat": 4,
  "nbformat_minor": 0,
  "metadata": {
    "colab": {
      "name": "Imersao_dados_4_aula01.ipynb",
      "provenance": [],
      "collapsed_sections": [],
      "include_colab_link": true
    },
    "kernelspec": {
      "name": "python3",
      "display_name": "Python 3"
    },
    "language_info": {
      "name": "python"
    }
  },
  "cells": [
    {
      "cell_type": "markdown",
      "metadata": {
        "id": "view-in-github",
        "colab_type": "text"
      },
      "source": [
        "<a href=\"https://colab.research.google.com/github/schultz-gabriel/imersao_dados_4/blob/main/Imersao_dados_4_aula01.ipynb\" target=\"_parent\"><img src=\"https://colab.research.google.com/assets/colab-badge.svg\" alt=\"Open In Colab\"/></a>"
      ]
    },
    {
      "cell_type": "code",
      "execution_count": 2,
      "metadata": {
        "id": "hz9yn4dWQKf9"
      },
      "outputs": [],
      "source": [
        "import pandas as pd\n",
        "url = \"https://gist.githubusercontent.com/tgcsantos/3bdb29eba6ce391e90df2b72205ba891/raw/22fa920e80c9fa209a9fccc8b52d74cc95d1599b/dados_imoveis.csv\"\n",
        "dados = pd.read_csv(url)"
      ]
    },
    {
      "cell_type": "code",
      "source": [
        "dados.head()"
      ],
      "metadata": {
        "colab": {
          "base_uri": "https://localhost:8080/",
          "height": 206
        },
        "id": "7e2Kmt74QnFZ",
        "outputId": "aef857ce-e5d2-4c68-882f-ae3375674ac4"
      },
      "execution_count": null,
      "outputs": [
        {
          "output_type": "execute_result",
          "data": {
            "text/plain": [
              "                              Rua              Bairro     Cidade  Metragem  \\\n",
              "0           Avenida Itacira, 255    Planalto Paulista  São Paulo      1000   \n",
              "1  Rua Aurelia Perez Alvarez, 42   Jardim dos Estados  São Paulo       496   \n",
              "2                 Rua Alba Valdez     Jardim Reimberg  São Paulo       125   \n",
              "3                             NaN      Jardim Morumbi  São Paulo       310   \n",
              "4        Rua Tobias Barreto, 195                Mooca  São Paulo       100   \n",
              "\n",
              "   Quartos  Banheiros  Vagas         Valor  \n",
              "0        4          8      6  R$ 7.000.000  \n",
              "1        4          4      4  R$ 3.700.000  \n",
              "2        4          3      2    R$ 380.000  \n",
              "3        3          2      4    R$ 685.000  \n",
              "4        3          2      2    R$ 540.000  "
            ],
            "text/html": [
              "\n",
              "  <div id=\"df-2b65d5b1-bffe-4a71-a9fb-d596f48d2b07\">\n",
              "    <div class=\"colab-df-container\">\n",
              "      <div>\n",
              "<style scoped>\n",
              "    .dataframe tbody tr th:only-of-type {\n",
              "        vertical-align: middle;\n",
              "    }\n",
              "\n",
              "    .dataframe tbody tr th {\n",
              "        vertical-align: top;\n",
              "    }\n",
              "\n",
              "    .dataframe thead th {\n",
              "        text-align: right;\n",
              "    }\n",
              "</style>\n",
              "<table border=\"1\" class=\"dataframe\">\n",
              "  <thead>\n",
              "    <tr style=\"text-align: right;\">\n",
              "      <th></th>\n",
              "      <th>Rua</th>\n",
              "      <th>Bairro</th>\n",
              "      <th>Cidade</th>\n",
              "      <th>Metragem</th>\n",
              "      <th>Quartos</th>\n",
              "      <th>Banheiros</th>\n",
              "      <th>Vagas</th>\n",
              "      <th>Valor</th>\n",
              "    </tr>\n",
              "  </thead>\n",
              "  <tbody>\n",
              "    <tr>\n",
              "      <th>0</th>\n",
              "      <td>Avenida Itacira, 255</td>\n",
              "      <td>Planalto Paulista</td>\n",
              "      <td>São Paulo</td>\n",
              "      <td>1000</td>\n",
              "      <td>4</td>\n",
              "      <td>8</td>\n",
              "      <td>6</td>\n",
              "      <td>R$ 7.000.000</td>\n",
              "    </tr>\n",
              "    <tr>\n",
              "      <th>1</th>\n",
              "      <td>Rua Aurelia Perez Alvarez, 42</td>\n",
              "      <td>Jardim dos Estados</td>\n",
              "      <td>São Paulo</td>\n",
              "      <td>496</td>\n",
              "      <td>4</td>\n",
              "      <td>4</td>\n",
              "      <td>4</td>\n",
              "      <td>R$ 3.700.000</td>\n",
              "    </tr>\n",
              "    <tr>\n",
              "      <th>2</th>\n",
              "      <td>Rua Alba Valdez</td>\n",
              "      <td>Jardim Reimberg</td>\n",
              "      <td>São Paulo</td>\n",
              "      <td>125</td>\n",
              "      <td>4</td>\n",
              "      <td>3</td>\n",
              "      <td>2</td>\n",
              "      <td>R$ 380.000</td>\n",
              "    </tr>\n",
              "    <tr>\n",
              "      <th>3</th>\n",
              "      <td>NaN</td>\n",
              "      <td>Jardim Morumbi</td>\n",
              "      <td>São Paulo</td>\n",
              "      <td>310</td>\n",
              "      <td>3</td>\n",
              "      <td>2</td>\n",
              "      <td>4</td>\n",
              "      <td>R$ 685.000</td>\n",
              "    </tr>\n",
              "    <tr>\n",
              "      <th>4</th>\n",
              "      <td>Rua Tobias Barreto, 195</td>\n",
              "      <td>Mooca</td>\n",
              "      <td>São Paulo</td>\n",
              "      <td>100</td>\n",
              "      <td>3</td>\n",
              "      <td>2</td>\n",
              "      <td>2</td>\n",
              "      <td>R$ 540.000</td>\n",
              "    </tr>\n",
              "  </tbody>\n",
              "</table>\n",
              "</div>\n",
              "      <button class=\"colab-df-convert\" onclick=\"convertToInteractive('df-2b65d5b1-bffe-4a71-a9fb-d596f48d2b07')\"\n",
              "              title=\"Convert this dataframe to an interactive table.\"\n",
              "              style=\"display:none;\">\n",
              "        \n",
              "  <svg xmlns=\"http://www.w3.org/2000/svg\" height=\"24px\"viewBox=\"0 0 24 24\"\n",
              "       width=\"24px\">\n",
              "    <path d=\"M0 0h24v24H0V0z\" fill=\"none\"/>\n",
              "    <path d=\"M18.56 5.44l.94 2.06.94-2.06 2.06-.94-2.06-.94-.94-2.06-.94 2.06-2.06.94zm-11 1L8.5 8.5l.94-2.06 2.06-.94-2.06-.94L8.5 2.5l-.94 2.06-2.06.94zm10 10l.94 2.06.94-2.06 2.06-.94-2.06-.94-.94-2.06-.94 2.06-2.06.94z\"/><path d=\"M17.41 7.96l-1.37-1.37c-.4-.4-.92-.59-1.43-.59-.52 0-1.04.2-1.43.59L10.3 9.45l-7.72 7.72c-.78.78-.78 2.05 0 2.83L4 21.41c.39.39.9.59 1.41.59.51 0 1.02-.2 1.41-.59l7.78-7.78 2.81-2.81c.8-.78.8-2.07 0-2.86zM5.41 20L4 18.59l7.72-7.72 1.47 1.35L5.41 20z\"/>\n",
              "  </svg>\n",
              "      </button>\n",
              "      \n",
              "  <style>\n",
              "    .colab-df-container {\n",
              "      display:flex;\n",
              "      flex-wrap:wrap;\n",
              "      gap: 12px;\n",
              "    }\n",
              "\n",
              "    .colab-df-convert {\n",
              "      background-color: #E8F0FE;\n",
              "      border: none;\n",
              "      border-radius: 50%;\n",
              "      cursor: pointer;\n",
              "      display: none;\n",
              "      fill: #1967D2;\n",
              "      height: 32px;\n",
              "      padding: 0 0 0 0;\n",
              "      width: 32px;\n",
              "    }\n",
              "\n",
              "    .colab-df-convert:hover {\n",
              "      background-color: #E2EBFA;\n",
              "      box-shadow: 0px 1px 2px rgba(60, 64, 67, 0.3), 0px 1px 3px 1px rgba(60, 64, 67, 0.15);\n",
              "      fill: #174EA6;\n",
              "    }\n",
              "\n",
              "    [theme=dark] .colab-df-convert {\n",
              "      background-color: #3B4455;\n",
              "      fill: #D2E3FC;\n",
              "    }\n",
              "\n",
              "    [theme=dark] .colab-df-convert:hover {\n",
              "      background-color: #434B5C;\n",
              "      box-shadow: 0px 1px 3px 1px rgba(0, 0, 0, 0.15);\n",
              "      filter: drop-shadow(0px 1px 2px rgba(0, 0, 0, 0.3));\n",
              "      fill: #FFFFFF;\n",
              "    }\n",
              "  </style>\n",
              "\n",
              "      <script>\n",
              "        const buttonEl =\n",
              "          document.querySelector('#df-2b65d5b1-bffe-4a71-a9fb-d596f48d2b07 button.colab-df-convert');\n",
              "        buttonEl.style.display =\n",
              "          google.colab.kernel.accessAllowed ? 'block' : 'none';\n",
              "\n",
              "        async function convertToInteractive(key) {\n",
              "          const element = document.querySelector('#df-2b65d5b1-bffe-4a71-a9fb-d596f48d2b07');\n",
              "          const dataTable =\n",
              "            await google.colab.kernel.invokeFunction('convertToInteractive',\n",
              "                                                     [key], {});\n",
              "          if (!dataTable) return;\n",
              "\n",
              "          const docLinkHtml = 'Like what you see? Visit the ' +\n",
              "            '<a target=\"_blank\" href=https://colab.research.google.com/notebooks/data_table.ipynb>data table notebook</a>'\n",
              "            + ' to learn more about interactive tables.';\n",
              "          element.innerHTML = '';\n",
              "          dataTable['output_type'] = 'display_data';\n",
              "          await google.colab.output.renderOutput(dataTable, element);\n",
              "          const docLink = document.createElement('div');\n",
              "          docLink.innerHTML = docLinkHtml;\n",
              "          element.appendChild(docLink);\n",
              "        }\n",
              "      </script>\n",
              "    </div>\n",
              "  </div>\n",
              "  "
            ]
          },
          "metadata": {},
          "execution_count": 4
        }
      ]
    },
    {
      "cell_type": "code",
      "source": [
        "dados.sample(10)"
      ],
      "metadata": {
        "colab": {
          "base_uri": "https://localhost:8080/",
          "height": 363
        },
        "id": "_RTJqQIiShML",
        "outputId": "b5382928-8479-404d-fd7b-9a0b9660bdcc"
      },
      "execution_count": null,
      "outputs": [
        {
          "output_type": "execute_result",
          "data": {
            "text/plain": [
              "                                Rua                 Bairro     Cidade  \\\n",
              "6999               Rua Rocha Galvão       Jardim da Glória  São Paulo   \n",
              "6949       Rua Ferreira do Alentejo       Jardim Caravelas  São Paulo   \n",
              "8698                            NaN     Vila Regente Feijó  São Paulo   \n",
              "6522  Rua Doutor Sales Gomes Júnior       Vila Paulo Silas  São Paulo   \n",
              "4342             Rua Cayowaá, 1755                  Sumaré  São Paulo   \n",
              "4790                            NaN        Jardim Paulista  São Paulo   \n",
              "302                 Rua Teviot, 50     Vila Nova Conceição  São Paulo   \n",
              "255          Rua Maestro Elias Lobo        Jardim Paulista  São Paulo   \n",
              "7213                            NaN  Vila Brasílio Machado  São Paulo   \n",
              "2986            Rua Francisco Farel   Jardim das Bandeiras  São Paulo   \n",
              "\n",
              "      Metragem  Quartos  Banheiros  Vagas         Valor  \n",
              "6999       305        3          3      4  R$ 1.085.000  \n",
              "6949       240        4          4      3  R$ 1.535.000  \n",
              "8698       193        2          1      2    R$ 500.000  \n",
              "6522        90        3          2      2    R$ 550.000  \n",
              "4342       131        3          3      1    R$ 990.000  \n",
              "4790       360        3          5      3  R$ 3.990.000  \n",
              "302        120        2          2      2  R$ 1.620.000  \n",
              "255        191        3          4      1  R$ 2.590.000  \n",
              "7213       116        3          1      2    R$ 680.000  \n",
              "2986       315        3          3      3  R$ 3.160.000  "
            ],
            "text/html": [
              "\n",
              "  <div id=\"df-563c5b57-f665-4557-af98-33d77c9d8cb8\">\n",
              "    <div class=\"colab-df-container\">\n",
              "      <div>\n",
              "<style scoped>\n",
              "    .dataframe tbody tr th:only-of-type {\n",
              "        vertical-align: middle;\n",
              "    }\n",
              "\n",
              "    .dataframe tbody tr th {\n",
              "        vertical-align: top;\n",
              "    }\n",
              "\n",
              "    .dataframe thead th {\n",
              "        text-align: right;\n",
              "    }\n",
              "</style>\n",
              "<table border=\"1\" class=\"dataframe\">\n",
              "  <thead>\n",
              "    <tr style=\"text-align: right;\">\n",
              "      <th></th>\n",
              "      <th>Rua</th>\n",
              "      <th>Bairro</th>\n",
              "      <th>Cidade</th>\n",
              "      <th>Metragem</th>\n",
              "      <th>Quartos</th>\n",
              "      <th>Banheiros</th>\n",
              "      <th>Vagas</th>\n",
              "      <th>Valor</th>\n",
              "    </tr>\n",
              "  </thead>\n",
              "  <tbody>\n",
              "    <tr>\n",
              "      <th>6999</th>\n",
              "      <td>Rua Rocha Galvão</td>\n",
              "      <td>Jardim da Glória</td>\n",
              "      <td>São Paulo</td>\n",
              "      <td>305</td>\n",
              "      <td>3</td>\n",
              "      <td>3</td>\n",
              "      <td>4</td>\n",
              "      <td>R$ 1.085.000</td>\n",
              "    </tr>\n",
              "    <tr>\n",
              "      <th>6949</th>\n",
              "      <td>Rua Ferreira do Alentejo</td>\n",
              "      <td>Jardim Caravelas</td>\n",
              "      <td>São Paulo</td>\n",
              "      <td>240</td>\n",
              "      <td>4</td>\n",
              "      <td>4</td>\n",
              "      <td>3</td>\n",
              "      <td>R$ 1.535.000</td>\n",
              "    </tr>\n",
              "    <tr>\n",
              "      <th>8698</th>\n",
              "      <td>NaN</td>\n",
              "      <td>Vila Regente Feijó</td>\n",
              "      <td>São Paulo</td>\n",
              "      <td>193</td>\n",
              "      <td>2</td>\n",
              "      <td>1</td>\n",
              "      <td>2</td>\n",
              "      <td>R$ 500.000</td>\n",
              "    </tr>\n",
              "    <tr>\n",
              "      <th>6522</th>\n",
              "      <td>Rua Doutor Sales Gomes Júnior</td>\n",
              "      <td>Vila Paulo Silas</td>\n",
              "      <td>São Paulo</td>\n",
              "      <td>90</td>\n",
              "      <td>3</td>\n",
              "      <td>2</td>\n",
              "      <td>2</td>\n",
              "      <td>R$ 550.000</td>\n",
              "    </tr>\n",
              "    <tr>\n",
              "      <th>4342</th>\n",
              "      <td>Rua Cayowaá, 1755</td>\n",
              "      <td>Sumaré</td>\n",
              "      <td>São Paulo</td>\n",
              "      <td>131</td>\n",
              "      <td>3</td>\n",
              "      <td>3</td>\n",
              "      <td>1</td>\n",
              "      <td>R$ 990.000</td>\n",
              "    </tr>\n",
              "    <tr>\n",
              "      <th>4790</th>\n",
              "      <td>NaN</td>\n",
              "      <td>Jardim Paulista</td>\n",
              "      <td>São Paulo</td>\n",
              "      <td>360</td>\n",
              "      <td>3</td>\n",
              "      <td>5</td>\n",
              "      <td>3</td>\n",
              "      <td>R$ 3.990.000</td>\n",
              "    </tr>\n",
              "    <tr>\n",
              "      <th>302</th>\n",
              "      <td>Rua Teviot, 50</td>\n",
              "      <td>Vila Nova Conceição</td>\n",
              "      <td>São Paulo</td>\n",
              "      <td>120</td>\n",
              "      <td>2</td>\n",
              "      <td>2</td>\n",
              "      <td>2</td>\n",
              "      <td>R$ 1.620.000</td>\n",
              "    </tr>\n",
              "    <tr>\n",
              "      <th>255</th>\n",
              "      <td>Rua Maestro Elias Lobo</td>\n",
              "      <td>Jardim Paulista</td>\n",
              "      <td>São Paulo</td>\n",
              "      <td>191</td>\n",
              "      <td>3</td>\n",
              "      <td>4</td>\n",
              "      <td>1</td>\n",
              "      <td>R$ 2.590.000</td>\n",
              "    </tr>\n",
              "    <tr>\n",
              "      <th>7213</th>\n",
              "      <td>NaN</td>\n",
              "      <td>Vila Brasílio Machado</td>\n",
              "      <td>São Paulo</td>\n",
              "      <td>116</td>\n",
              "      <td>3</td>\n",
              "      <td>1</td>\n",
              "      <td>2</td>\n",
              "      <td>R$ 680.000</td>\n",
              "    </tr>\n",
              "    <tr>\n",
              "      <th>2986</th>\n",
              "      <td>Rua Francisco Farel</td>\n",
              "      <td>Jardim das Bandeiras</td>\n",
              "      <td>São Paulo</td>\n",
              "      <td>315</td>\n",
              "      <td>3</td>\n",
              "      <td>3</td>\n",
              "      <td>3</td>\n",
              "      <td>R$ 3.160.000</td>\n",
              "    </tr>\n",
              "  </tbody>\n",
              "</table>\n",
              "</div>\n",
              "      <button class=\"colab-df-convert\" onclick=\"convertToInteractive('df-563c5b57-f665-4557-af98-33d77c9d8cb8')\"\n",
              "              title=\"Convert this dataframe to an interactive table.\"\n",
              "              style=\"display:none;\">\n",
              "        \n",
              "  <svg xmlns=\"http://www.w3.org/2000/svg\" height=\"24px\"viewBox=\"0 0 24 24\"\n",
              "       width=\"24px\">\n",
              "    <path d=\"M0 0h24v24H0V0z\" fill=\"none\"/>\n",
              "    <path d=\"M18.56 5.44l.94 2.06.94-2.06 2.06-.94-2.06-.94-.94-2.06-.94 2.06-2.06.94zm-11 1L8.5 8.5l.94-2.06 2.06-.94-2.06-.94L8.5 2.5l-.94 2.06-2.06.94zm10 10l.94 2.06.94-2.06 2.06-.94-2.06-.94-.94-2.06-.94 2.06-2.06.94z\"/><path d=\"M17.41 7.96l-1.37-1.37c-.4-.4-.92-.59-1.43-.59-.52 0-1.04.2-1.43.59L10.3 9.45l-7.72 7.72c-.78.78-.78 2.05 0 2.83L4 21.41c.39.39.9.59 1.41.59.51 0 1.02-.2 1.41-.59l7.78-7.78 2.81-2.81c.8-.78.8-2.07 0-2.86zM5.41 20L4 18.59l7.72-7.72 1.47 1.35L5.41 20z\"/>\n",
              "  </svg>\n",
              "      </button>\n",
              "      \n",
              "  <style>\n",
              "    .colab-df-container {\n",
              "      display:flex;\n",
              "      flex-wrap:wrap;\n",
              "      gap: 12px;\n",
              "    }\n",
              "\n",
              "    .colab-df-convert {\n",
              "      background-color: #E8F0FE;\n",
              "      border: none;\n",
              "      border-radius: 50%;\n",
              "      cursor: pointer;\n",
              "      display: none;\n",
              "      fill: #1967D2;\n",
              "      height: 32px;\n",
              "      padding: 0 0 0 0;\n",
              "      width: 32px;\n",
              "    }\n",
              "\n",
              "    .colab-df-convert:hover {\n",
              "      background-color: #E2EBFA;\n",
              "      box-shadow: 0px 1px 2px rgba(60, 64, 67, 0.3), 0px 1px 3px 1px rgba(60, 64, 67, 0.15);\n",
              "      fill: #174EA6;\n",
              "    }\n",
              "\n",
              "    [theme=dark] .colab-df-convert {\n",
              "      background-color: #3B4455;\n",
              "      fill: #D2E3FC;\n",
              "    }\n",
              "\n",
              "    [theme=dark] .colab-df-convert:hover {\n",
              "      background-color: #434B5C;\n",
              "      box-shadow: 0px 1px 3px 1px rgba(0, 0, 0, 0.15);\n",
              "      filter: drop-shadow(0px 1px 2px rgba(0, 0, 0, 0.3));\n",
              "      fill: #FFFFFF;\n",
              "    }\n",
              "  </style>\n",
              "\n",
              "      <script>\n",
              "        const buttonEl =\n",
              "          document.querySelector('#df-563c5b57-f665-4557-af98-33d77c9d8cb8 button.colab-df-convert');\n",
              "        buttonEl.style.display =\n",
              "          google.colab.kernel.accessAllowed ? 'block' : 'none';\n",
              "\n",
              "        async function convertToInteractive(key) {\n",
              "          const element = document.querySelector('#df-563c5b57-f665-4557-af98-33d77c9d8cb8');\n",
              "          const dataTable =\n",
              "            await google.colab.kernel.invokeFunction('convertToInteractive',\n",
              "                                                     [key], {});\n",
              "          if (!dataTable) return;\n",
              "\n",
              "          const docLinkHtml = 'Like what you see? Visit the ' +\n",
              "            '<a target=\"_blank\" href=https://colab.research.google.com/notebooks/data_table.ipynb>data table notebook</a>'\n",
              "            + ' to learn more about interactive tables.';\n",
              "          element.innerHTML = '';\n",
              "          dataTable['output_type'] = 'display_data';\n",
              "          await google.colab.output.renderOutput(dataTable, element);\n",
              "          const docLink = document.createElement('div');\n",
              "          docLink.innerHTML = docLinkHtml;\n",
              "          element.appendChild(docLink);\n",
              "        }\n",
              "      </script>\n",
              "    </div>\n",
              "  </div>\n",
              "  "
            ]
          },
          "metadata": {},
          "execution_count": 7
        }
      ]
    },
    {
      "cell_type": "code",
      "source": [
        "dados.info()"
      ],
      "metadata": {
        "colab": {
          "base_uri": "https://localhost:8080/"
        },
        "id": "PSqqMKMqUcFZ",
        "outputId": "14104545-0fdd-4b67-cbce-96914083d94a"
      },
      "execution_count": null,
      "outputs": [
        {
          "output_type": "stream",
          "name": "stdout",
          "text": [
            "<class 'pandas.core.frame.DataFrame'>\n",
            "RangeIndex: 10008 entries, 0 to 10007\n",
            "Data columns (total 8 columns):\n",
            " #   Column     Non-Null Count  Dtype \n",
            "---  ------     --------------  ----- \n",
            " 0   Rua        6574 non-null   object\n",
            " 1   Bairro     9996 non-null   object\n",
            " 2   Cidade     10008 non-null  object\n",
            " 3   Metragem   10008 non-null  int64 \n",
            " 4   Quartos    10008 non-null  int64 \n",
            " 5   Banheiros  10008 non-null  int64 \n",
            " 6   Vagas      10008 non-null  int64 \n",
            " 7   Valor      10008 non-null  object\n",
            "dtypes: int64(4), object(4)\n",
            "memory usage: 625.6+ KB\n"
          ]
        }
      ]
    },
    {
      "cell_type": "code",
      "source": [
        "dados[\"Bairro\"][6522]"
      ],
      "metadata": {
        "colab": {
          "base_uri": "https://localhost:8080/",
          "height": 36
        },
        "id": "P9rkcINCSiai",
        "outputId": "e93aeba4-a93d-4bc9-9bfd-01ccb91efbec"
      },
      "execution_count": null,
      "outputs": [
        {
          "output_type": "execute_result",
          "data": {
            "text/plain": [
              "'Vila Paulo Silas'"
            ],
            "application/vnd.google.colaboratory.intrinsic+json": {
              "type": "string"
            }
          },
          "metadata": {},
          "execution_count": 10
        }
      ]
    },
    {
      "cell_type": "code",
      "source": [
        "dados.Metragem.mean()"
      ],
      "metadata": {
        "colab": {
          "base_uri": "https://localhost:8080/"
        },
        "id": "FYtNWwbkTopx",
        "outputId": "906710b7-6d81-4b4f-c54d-248e8ff2233c"
      },
      "execution_count": null,
      "outputs": [
        {
          "output_type": "execute_result",
          "data": {
            "text/plain": [
              "442.30065947242207"
            ]
          },
          "metadata": {},
          "execution_count": 14
        }
      ]
    },
    {
      "cell_type": "code",
      "source": [
        "dados[\"Metragem\"].mean()"
      ],
      "metadata": {
        "colab": {
          "base_uri": "https://localhost:8080/"
        },
        "id": "CZtnuG1wVDqg",
        "outputId": "ce057f62-4d02-4cae-8fda-0bc54f114544"
      },
      "execution_count": null,
      "outputs": [
        {
          "output_type": "execute_result",
          "data": {
            "text/plain": [
              "442.30065947242207"
            ]
          },
          "metadata": {},
          "execution_count": 15
        }
      ]
    },
    {
      "cell_type": "code",
      "source": [
        "sum((dados[\"Bairro\"] == \"Vila Mariana\"))"
      ],
      "metadata": {
        "colab": {
          "base_uri": "https://localhost:8080/"
        },
        "id": "W-LPCx0qVzvS",
        "outputId": "fa2e1838-0472-4dbb-8326-518e22cb3598"
      },
      "execution_count": null,
      "outputs": [
        {
          "output_type": "execute_result",
          "data": {
            "text/plain": [
              "184"
            ]
          },
          "metadata": {},
          "execution_count": 18
        }
      ]
    },
    {
      "cell_type": "code",
      "source": [
        "tem_imoveis_vila =( dados[\"Bairro\"] == \"Vila Mariana\")\n",
        "tem_imoveis_vila"
      ],
      "metadata": {
        "colab": {
          "base_uri": "https://localhost:8080/"
        },
        "id": "VPAYgHC3WQmy",
        "outputId": "7bf932cd-d17e-400f-abb8-bfababa7e07b"
      },
      "execution_count": null,
      "outputs": [
        {
          "output_type": "execute_result",
          "data": {
            "text/plain": [
              "0        False\n",
              "1        False\n",
              "2        False\n",
              "3        False\n",
              "4        False\n",
              "         ...  \n",
              "10003    False\n",
              "10004    False\n",
              "10005    False\n",
              "10006    False\n",
              "10007    False\n",
              "Name: Bairro, Length: 10008, dtype: bool"
            ]
          },
          "metadata": {},
          "execution_count": 19
        }
      ]
    },
    {
      "cell_type": "code",
      "source": [
        "imoveis_vila_mariana = dados[tem_imoveis_vila]\n",
        "imoveis_vila_mariana"
      ],
      "metadata": {
        "colab": {
          "base_uri": "https://localhost:8080/",
          "height": 423
        },
        "id": "2DnvKduJW39N",
        "outputId": "c3d6991d-ae7e-4885-855a-206a453c89ac"
      },
      "execution_count": null,
      "outputs": [
        {
          "output_type": "execute_result",
          "data": {
            "text/plain": [
              "                               Rua        Bairro     Cidade  Metragem  \\\n",
              "100               Rua Pero Correia  Vila Mariana  São Paulo       250   \n",
              "120   Praça Doutor Carvalho Franco  Vila Mariana  São Paulo       250   \n",
              "155     Rua Professor João Marinho  Vila Mariana  São Paulo       170   \n",
              "160                            NaN  Vila Mariana  São Paulo       228   \n",
              "334         Rua Pero Correia, 892   Vila Mariana  São Paulo       350   \n",
              "...                            ...           ...        ...       ...   \n",
              "9645               Rua Sousa Ramos  Vila Mariana  São Paulo       285   \n",
              "9701             Rua Benito Juarez  Vila Mariana  São Paulo       171   \n",
              "9737             Rua Benito Juarez  Vila Mariana  São Paulo       171   \n",
              "9807                           NaN  Vila Mariana  São Paulo       275   \n",
              "9852              Rua França Pinto  Vila Mariana  São Paulo       280   \n",
              "\n",
              "      Quartos  Banheiros  Vagas         Valor  \n",
              "100         3          3      1  R$ 1.350.000  \n",
              "120         3          5      2  R$ 2.450.000  \n",
              "155         3          4      2  R$ 1.490.000  \n",
              "160         4          5      3  R$ 2.200.000  \n",
              "334         6          4     10  R$ 1.700.000  \n",
              "...       ...        ...    ...           ...  \n",
              "9645        3          5      5  R$ 1.650.000  \n",
              "9701        3          2      4  R$ 1.650.000  \n",
              "9737        3          2      4  R$ 1.650.000  \n",
              "9807        3          1      6  R$ 1.500.000  \n",
              "9852        3          3      4  R$ 1.600.000  \n",
              "\n",
              "[184 rows x 8 columns]"
            ],
            "text/html": [
              "\n",
              "  <div id=\"df-6869ad99-a66d-4609-bb93-2e50551ad122\">\n",
              "    <div class=\"colab-df-container\">\n",
              "      <div>\n",
              "<style scoped>\n",
              "    .dataframe tbody tr th:only-of-type {\n",
              "        vertical-align: middle;\n",
              "    }\n",
              "\n",
              "    .dataframe tbody tr th {\n",
              "        vertical-align: top;\n",
              "    }\n",
              "\n",
              "    .dataframe thead th {\n",
              "        text-align: right;\n",
              "    }\n",
              "</style>\n",
              "<table border=\"1\" class=\"dataframe\">\n",
              "  <thead>\n",
              "    <tr style=\"text-align: right;\">\n",
              "      <th></th>\n",
              "      <th>Rua</th>\n",
              "      <th>Bairro</th>\n",
              "      <th>Cidade</th>\n",
              "      <th>Metragem</th>\n",
              "      <th>Quartos</th>\n",
              "      <th>Banheiros</th>\n",
              "      <th>Vagas</th>\n",
              "      <th>Valor</th>\n",
              "    </tr>\n",
              "  </thead>\n",
              "  <tbody>\n",
              "    <tr>\n",
              "      <th>100</th>\n",
              "      <td>Rua Pero Correia</td>\n",
              "      <td>Vila Mariana</td>\n",
              "      <td>São Paulo</td>\n",
              "      <td>250</td>\n",
              "      <td>3</td>\n",
              "      <td>3</td>\n",
              "      <td>1</td>\n",
              "      <td>R$ 1.350.000</td>\n",
              "    </tr>\n",
              "    <tr>\n",
              "      <th>120</th>\n",
              "      <td>Praça Doutor Carvalho Franco</td>\n",
              "      <td>Vila Mariana</td>\n",
              "      <td>São Paulo</td>\n",
              "      <td>250</td>\n",
              "      <td>3</td>\n",
              "      <td>5</td>\n",
              "      <td>2</td>\n",
              "      <td>R$ 2.450.000</td>\n",
              "    </tr>\n",
              "    <tr>\n",
              "      <th>155</th>\n",
              "      <td>Rua Professor João Marinho</td>\n",
              "      <td>Vila Mariana</td>\n",
              "      <td>São Paulo</td>\n",
              "      <td>170</td>\n",
              "      <td>3</td>\n",
              "      <td>4</td>\n",
              "      <td>2</td>\n",
              "      <td>R$ 1.490.000</td>\n",
              "    </tr>\n",
              "    <tr>\n",
              "      <th>160</th>\n",
              "      <td>NaN</td>\n",
              "      <td>Vila Mariana</td>\n",
              "      <td>São Paulo</td>\n",
              "      <td>228</td>\n",
              "      <td>4</td>\n",
              "      <td>5</td>\n",
              "      <td>3</td>\n",
              "      <td>R$ 2.200.000</td>\n",
              "    </tr>\n",
              "    <tr>\n",
              "      <th>334</th>\n",
              "      <td>Rua Pero Correia, 892</td>\n",
              "      <td>Vila Mariana</td>\n",
              "      <td>São Paulo</td>\n",
              "      <td>350</td>\n",
              "      <td>6</td>\n",
              "      <td>4</td>\n",
              "      <td>10</td>\n",
              "      <td>R$ 1.700.000</td>\n",
              "    </tr>\n",
              "    <tr>\n",
              "      <th>...</th>\n",
              "      <td>...</td>\n",
              "      <td>...</td>\n",
              "      <td>...</td>\n",
              "      <td>...</td>\n",
              "      <td>...</td>\n",
              "      <td>...</td>\n",
              "      <td>...</td>\n",
              "      <td>...</td>\n",
              "    </tr>\n",
              "    <tr>\n",
              "      <th>9645</th>\n",
              "      <td>Rua Sousa Ramos</td>\n",
              "      <td>Vila Mariana</td>\n",
              "      <td>São Paulo</td>\n",
              "      <td>285</td>\n",
              "      <td>3</td>\n",
              "      <td>5</td>\n",
              "      <td>5</td>\n",
              "      <td>R$ 1.650.000</td>\n",
              "    </tr>\n",
              "    <tr>\n",
              "      <th>9701</th>\n",
              "      <td>Rua Benito Juarez</td>\n",
              "      <td>Vila Mariana</td>\n",
              "      <td>São Paulo</td>\n",
              "      <td>171</td>\n",
              "      <td>3</td>\n",
              "      <td>2</td>\n",
              "      <td>4</td>\n",
              "      <td>R$ 1.650.000</td>\n",
              "    </tr>\n",
              "    <tr>\n",
              "      <th>9737</th>\n",
              "      <td>Rua Benito Juarez</td>\n",
              "      <td>Vila Mariana</td>\n",
              "      <td>São Paulo</td>\n",
              "      <td>171</td>\n",
              "      <td>3</td>\n",
              "      <td>2</td>\n",
              "      <td>4</td>\n",
              "      <td>R$ 1.650.000</td>\n",
              "    </tr>\n",
              "    <tr>\n",
              "      <th>9807</th>\n",
              "      <td>NaN</td>\n",
              "      <td>Vila Mariana</td>\n",
              "      <td>São Paulo</td>\n",
              "      <td>275</td>\n",
              "      <td>3</td>\n",
              "      <td>1</td>\n",
              "      <td>6</td>\n",
              "      <td>R$ 1.500.000</td>\n",
              "    </tr>\n",
              "    <tr>\n",
              "      <th>9852</th>\n",
              "      <td>Rua França Pinto</td>\n",
              "      <td>Vila Mariana</td>\n",
              "      <td>São Paulo</td>\n",
              "      <td>280</td>\n",
              "      <td>3</td>\n",
              "      <td>3</td>\n",
              "      <td>4</td>\n",
              "      <td>R$ 1.600.000</td>\n",
              "    </tr>\n",
              "  </tbody>\n",
              "</table>\n",
              "<p>184 rows × 8 columns</p>\n",
              "</div>\n",
              "      <button class=\"colab-df-convert\" onclick=\"convertToInteractive('df-6869ad99-a66d-4609-bb93-2e50551ad122')\"\n",
              "              title=\"Convert this dataframe to an interactive table.\"\n",
              "              style=\"display:none;\">\n",
              "        \n",
              "  <svg xmlns=\"http://www.w3.org/2000/svg\" height=\"24px\"viewBox=\"0 0 24 24\"\n",
              "       width=\"24px\">\n",
              "    <path d=\"M0 0h24v24H0V0z\" fill=\"none\"/>\n",
              "    <path d=\"M18.56 5.44l.94 2.06.94-2.06 2.06-.94-2.06-.94-.94-2.06-.94 2.06-2.06.94zm-11 1L8.5 8.5l.94-2.06 2.06-.94-2.06-.94L8.5 2.5l-.94 2.06-2.06.94zm10 10l.94 2.06.94-2.06 2.06-.94-2.06-.94-.94-2.06-.94 2.06-2.06.94z\"/><path d=\"M17.41 7.96l-1.37-1.37c-.4-.4-.92-.59-1.43-.59-.52 0-1.04.2-1.43.59L10.3 9.45l-7.72 7.72c-.78.78-.78 2.05 0 2.83L4 21.41c.39.39.9.59 1.41.59.51 0 1.02-.2 1.41-.59l7.78-7.78 2.81-2.81c.8-.78.8-2.07 0-2.86zM5.41 20L4 18.59l7.72-7.72 1.47 1.35L5.41 20z\"/>\n",
              "  </svg>\n",
              "      </button>\n",
              "      \n",
              "  <style>\n",
              "    .colab-df-container {\n",
              "      display:flex;\n",
              "      flex-wrap:wrap;\n",
              "      gap: 12px;\n",
              "    }\n",
              "\n",
              "    .colab-df-convert {\n",
              "      background-color: #E8F0FE;\n",
              "      border: none;\n",
              "      border-radius: 50%;\n",
              "      cursor: pointer;\n",
              "      display: none;\n",
              "      fill: #1967D2;\n",
              "      height: 32px;\n",
              "      padding: 0 0 0 0;\n",
              "      width: 32px;\n",
              "    }\n",
              "\n",
              "    .colab-df-convert:hover {\n",
              "      background-color: #E2EBFA;\n",
              "      box-shadow: 0px 1px 2px rgba(60, 64, 67, 0.3), 0px 1px 3px 1px rgba(60, 64, 67, 0.15);\n",
              "      fill: #174EA6;\n",
              "    }\n",
              "\n",
              "    [theme=dark] .colab-df-convert {\n",
              "      background-color: #3B4455;\n",
              "      fill: #D2E3FC;\n",
              "    }\n",
              "\n",
              "    [theme=dark] .colab-df-convert:hover {\n",
              "      background-color: #434B5C;\n",
              "      box-shadow: 0px 1px 3px 1px rgba(0, 0, 0, 0.15);\n",
              "      filter: drop-shadow(0px 1px 2px rgba(0, 0, 0, 0.3));\n",
              "      fill: #FFFFFF;\n",
              "    }\n",
              "  </style>\n",
              "\n",
              "      <script>\n",
              "        const buttonEl =\n",
              "          document.querySelector('#df-6869ad99-a66d-4609-bb93-2e50551ad122 button.colab-df-convert');\n",
              "        buttonEl.style.display =\n",
              "          google.colab.kernel.accessAllowed ? 'block' : 'none';\n",
              "\n",
              "        async function convertToInteractive(key) {\n",
              "          const element = document.querySelector('#df-6869ad99-a66d-4609-bb93-2e50551ad122');\n",
              "          const dataTable =\n",
              "            await google.colab.kernel.invokeFunction('convertToInteractive',\n",
              "                                                     [key], {});\n",
              "          if (!dataTable) return;\n",
              "\n",
              "          const docLinkHtml = 'Like what you see? Visit the ' +\n",
              "            '<a target=\"_blank\" href=https://colab.research.google.com/notebooks/data_table.ipynb>data table notebook</a>'\n",
              "            + ' to learn more about interactive tables.';\n",
              "          element.innerHTML = '';\n",
              "          dataTable['output_type'] = 'display_data';\n",
              "          await google.colab.output.renderOutput(dataTable, element);\n",
              "          const docLink = document.createElement('div');\n",
              "          docLink.innerHTML = docLinkHtml;\n",
              "          element.appendChild(docLink);\n",
              "        }\n",
              "      </script>\n",
              "    </div>\n",
              "  </div>\n",
              "  "
            ]
          },
          "metadata": {},
          "execution_count": 21
        }
      ]
    },
    {
      "cell_type": "code",
      "source": [
        "imoveis_vila_mariana[\"Metragem\"].mean()"
      ],
      "metadata": {
        "colab": {
          "base_uri": "https://localhost:8080/"
        },
        "id": "KAZjmOobXJk8",
        "outputId": "4f97f927-13bc-4afb-cae0-023f4dc967c6"
      },
      "execution_count": null,
      "outputs": [
        {
          "output_type": "execute_result",
          "data": {
            "text/plain": [
              "233.6195652173913"
            ]
          },
          "metadata": {},
          "execution_count": 22
        }
      ]
    },
    {
      "cell_type": "code",
      "source": [
        "dados[\"Bairro\"].value_counts()"
      ],
      "metadata": {
        "colab": {
          "base_uri": "https://localhost:8080/"
        },
        "id": "pAiOk2ZbXYK8",
        "outputId": "4dc33789-ec5f-4e1d-ac9d-b9038193c05c"
      },
      "execution_count": null,
      "outputs": [
        {
          "output_type": "execute_result",
          "data": {
            "text/plain": [
              "Alto de Pinheiros     409\n",
              "Jardim Guedala        403\n",
              "Jardim Paulista       309\n",
              "Brooklin Paulista     247\n",
              "Jardim Europa         240\n",
              "                     ... \n",
              "Jardim das Imbuias      1\n",
              "Vila Represa            1\n",
              "Vila Nancy              1\n",
              "Sítio Represa           1\n",
              "Vila Invernada          1\n",
              "Name: Bairro, Length: 701, dtype: int64"
            ]
          },
          "metadata": {},
          "execution_count": 23
        }
      ]
    },
    {
      "cell_type": "code",
      "source": [
        "n_imoveis_bairro = dados[\"Bairro\"].value_counts()\n",
        "n_imoveis_bairro.head(11).plot.bar()"
      ],
      "metadata": {
        "colab": {
          "base_uri": "https://localhost:8080/",
          "height": 356
        },
        "id": "2uGH9Ug2Yy4h",
        "outputId": "80577503-ef65-47fa-8a4a-8c71852fb6b3"
      },
      "execution_count": 3,
      "outputs": [
        {
          "output_type": "execute_result",
          "data": {
            "text/plain": [
              "<matplotlib.axes._subplots.AxesSubplot at 0x7fe6c6f50dd0>"
            ]
          },
          "metadata": {},
          "execution_count": 3
        },
        {
          "output_type": "display_data",
          "data": {
            "text/plain": [
              "<Figure size 432x288 with 1 Axes>"
            ],
            "image/png": "[encoded data removed]"
          },
          "metadata": {
            "needs_background": "light"
          }
        }
      ]
    },
    {
      "cell_type": "markdown",
      "source": [
        "Desafios:\n",
        "\n",
        "1 - Realizar a média da metragem para cara um dos bairros (Paulo)\n",
        "\n",
        "2 - 2 formas de selecionar os dados por bairro (consultar os métodos na documentação do pandas) (Thiago)\n",
        "\n",
        "3 - Explorar alguns gráficos na documentação e aplicar nas demais colunas do DF, tentar colocar alguma conclusão (Thiago)\n",
        "\n",
        "4 - Pegar outros estatísticas dos dados, média, mediana, mim, max (Vivi)\n",
        "\n",
        "5 - Descobrir quais são os bairros que não tem nome de Rua. (Vivi)"
      ],
      "metadata": {
        "id": "ECNTtjSsaTu-"
      }
    },
    {
      "cell_type": "markdown",
      "source": [
        "DESAFIO 1:"
      ],
      "metadata": {
        "id": "r35JjsvNYBf1"
      }
    },
    {
      "cell_type": "code",
      "source": [
        "lista_bairros = dados['Bairro'].values\n",
        "lista_media_mostragem = {}\n",
        "\n",
        "for bairro in lista_bairros:\n",
        "  media_metragem = dados.loc[dados['Bairro'] == bairro, 'Metragem'].mean() # https://pandas.pydata.org/docs/reference/api/pandas.DataFrame.loc.html\n",
        "  lista_media_mostragem[bairro] = media_metragem\n",
        "\n",
        "teste = pd.DataFrame.from_dict(lista_media_mostragem, orient='index', columns=['Média'])\n",
        "# index_bonito = teste.reset_index().rename(columns={'index': 'Bairro'})\n",
        "teste.sort_values(by='Média', ascending=False).head(10).plot.bar() #aplicar boxplot para deixar o gráfico mais bonito ?"
      ],
      "metadata": {
        "id": "zKpdD2UxZXNv",
        "colab": {
          "base_uri": "https://localhost:8080/",
          "height": 403
        },
        "outputId": "a56003cc-cd39-47c7-8afa-72535cc4af88"
      },
      "execution_count": 125,
      "outputs": [
        {
          "output_type": "execute_result",
          "data": {
            "text/plain": [
              "<matplotlib.axes._subplots.AxesSubplot at 0x7fe6b100bb50>"
            ]
          },
          "metadata": {},
          "execution_count": 125
        },
        {
          "output_type": "display_data",
          "data": {
            "text/plain": [
              "<Figure size 432x288 with 1 Axes>"
            ],
            "image/png": "[encoded data removed]"
          },
          "metadata": {
            "needs_background": "light"
          }
        }
      ]
    },
    {
      "cell_type": "markdown",
      "source": [
        "Desafio 5:"
      ],
      "metadata": {
        "id": "uqeaWWgWr5eZ"
      }
    },
    {
      "cell_type": "code",
      "source": [
        "# dados['Rua']\n",
        "dados[dados['Rua'].isnull()].Bairro.unique()"
      ],
      "metadata": {
        "colab": {
          "base_uri": "https://localhost:8080/"
        },
        "id": "gcZqSvA1r9ii",
        "outputId": "7756a212-8922-49cc-90f4-179ab62a7f41"
      },
      "execution_count": 152,
      "outputs": [
        {
          "output_type": "execute_result",
          "data": {
            "text/plain": [
              "array(['Jardim Morumbi', 'Jardim Luzitânia', 'Parque da Lapa',\n",
              "       'Chácara Santo Antônio (Zona Sul)', 'Jardim Guedala',\n",
              "       'Vila Arriete', 'Alto de Pinheiros', 'Planalto Paulista',\n",
              "       'Vila Moinho Velho', 'Brooklin Paulista', 'Sumaré',\n",
              "       'Jardim Paulista', 'Vila Gustavo', 'Jardim Trussardi',\n",
              "       'Vila Madalena', 'Jardim dos Estados', 'Vila Santos',\n",
              "       'Jardim Europa', 'Butantã', 'Jardim Paulistano',\n",
              "       'Jardim Petrópolis', 'Vila Mariana', 'Vila Aparecida', 'Siciliano',\n",
              "       'Alto da Lapa', 'Jardim da Glória', 'Morumbi', 'Vila Ida',\n",
              "       'Cidade Jardim', 'Cidade Dutra', 'Água Fria', 'Parque Boturussu',\n",
              "       'Belenzinho', 'Vila Sônia', 'Jardim Panorama', 'Jardim Ampliação',\n",
              "       'Lauzane Paulista', 'Vila Sabrina', 'Vila Olímpia',\n",
              "       'Jardim Franca', 'Jardim Sílvia (Zona Oeste)', 'Santo Amaro',\n",
              "       'Mooca', 'Jardim América', 'Interlagos', 'Pacaembu',\n",
              "       'Jardim Santo Amaro', 'Vila Matilde', 'Vila Prudente',\n",
              "       'Vila Nova Conceição', 'Jardim Camargo Novo', 'Jardim Planalto',\n",
              "       'Santana', 'Jardim Patente Novo', 'Jardim das Camélias',\n",
              "       'Jardim Virginia Bianca', 'Jardim Viana',\n",
              "       'Jardim Célia (Zona Sul)', 'Parque Guarani', 'Vila Brasilina',\n",
              "       'Vila Antonieta', 'Vila Ema', 'Boaçava', 'Vila Morse',\n",
              "       'Itaim Bibi', 'Conjunto Residencial Vista Verde',\n",
              "       'Parque São Domingos', 'Jardim Leonor', 'Vila Albertina',\n",
              "       'Jardim Santo Elias', 'Vila Morumbi', 'Chácara Japonesa',\n",
              "       'Penha de França', 'Chácara Inglesa', 'City América', 'Pinheiros',\n",
              "       'Ipiranga', 'Jardim Everest', 'Vila Londrina', 'Vila Santa Maria',\n",
              "       'Cidade São Mateus', 'Paraíso', 'Tucuruvi', 'Vila Bertioga',\n",
              "       'Vila Cláudia', 'Vila Inah', 'Jardim Cordeiro', 'Fazenda Morumbi',\n",
              "       'Cidade Patriarca', 'Jardim Santa Maria', 'Chácara Monte Alegre',\n",
              "       'Parque Continental', 'Vila Sílvia', 'Bosque da Saúde',\n",
              "       'Jardim Celeste', 'Vila Comercial', 'Vila Monumento', 'Vila Gea',\n",
              "       'Vila Lageado', 'Vila Perus', 'Jardim Satélite', 'Cidade Monções',\n",
              "       'Consolação', 'Paineiras do Morumbi', 'Vila Progredior',\n",
              "       'Lapa de Baixo', 'Vila Araguaia', 'Vila Lúcia', 'Granja Julieta',\n",
              "       'Indianópolis', 'Jardim Prudência', 'Vila São Francisco',\n",
              "       'Lar São Paulo', 'Brooklin Novo', 'Perdizes', 'Cambuci', 'Lapa',\n",
              "       'Vila Palmeiras', 'Chácara Califórnia', 'Campo Belo',\n",
              "       'Instituto de Previdência', 'Vila Pompéia', 'Jardim Umuarama',\n",
              "       'Jardim Marajoara', 'Parque Colonial', 'Vila Leopoldina',\n",
              "       'Jardim Novo Mundo', 'Vila Tramontano', 'Jardim das Bandeiras',\n",
              "       'Jardim Monte Kemel', 'Vila Cordeiro', 'Retiro Morumbi',\n",
              "       'Vila Guarani (Z Sul)', 'Vila Cruzeiro', 'Sumarezinho',\n",
              "       'Itaberaba', 'Vila Salete', 'Chora Menino', 'Vila Campo Grande',\n",
              "       'Jardim Ana Maria', 'Vila Nova Caledonia', 'Vila Carbone',\n",
              "       'Vila Adalgisa', 'Mirandópolis', 'Jardim Bonfiglioli',\n",
              "       'Jardim Ester', 'Caxingui', 'Vila São Silvestre',\n",
              "       'Chácara Tatuapé', 'Real Parque', 'Cidade Domitila',\n",
              "       'Jardim Vila Mariana', \"Jardim Panorama D'Oeste\", 'Vila Suzana',\n",
              "       'Santa Cecília', 'Parque Residencial Oratorio', 'Parque da Mooca',\n",
              "       'Jardim Santa Cruz (Campo Grande)', 'Higienópolis',\n",
              "       'Jardim Triana', 'Moema', 'Cidade Centenário', 'Jaguaré',\n",
              "       'Jardim Miriam', 'Vila Oratório', 'Vila Clementino',\n",
              "       'Vila Ipojuca', 'Barra Funda', 'Jardim Petropolis',\n",
              "       'Jardim Vitória Régia', 'Vila Jacuí', 'Vila Califórnia(Zona Sul)',\n",
              "       'Vila Mafra', 'Vila Anhangüera', 'Jardim Consórcio', 'Vila Alpina',\n",
              "       'Jardim Rizzo', 'Vila Império', 'Vila Inglesa', 'Vila Nova Curuçá',\n",
              "       'Vila Paiva', 'Jardim Analia Franco', 'Saúde', 'Vila Prado',\n",
              "       'Tatuapé', 'Aclimação', 'Jardim Eliana', 'Paraíso do Morumbi',\n",
              "       'Jardim Teresa', 'Jardim Brasília (Zona Leste)', 'Jardim Danfer',\n",
              "       'Vila Romana', 'Vila Pedroso', 'Vila Brasílio Machado',\n",
              "       'Vila Anglo Brasileira', 'Vila Antônio', 'Chácara Meyer',\n",
              "       'Vila Paulicéia', 'Rio Pequeno', 'Jardim Santa Helena',\n",
              "       'Jardim Taboão', 'Parque Mandaqui', 'Capão Redondo',\n",
              "       'Vila Alexandria', 'Super Quadra Morumbi', 'Vila Ré',\n",
              "       'Parque Jabaquara', 'Jardim Londrina', 'Parque Novo Mundo',\n",
              "       'Jardim das Acácias', 'Vila Cardoso Franco', 'Jardim Campo Grande',\n",
              "       'Jardim Textil', 'Vila Mazzei', 'Vila Andrade', 'Jardim da Saúde',\n",
              "       'Jardim Colombo', 'Vila Nair', 'Quinta da Paineira',\n",
              "       'Jardim Gonzaga', 'Liberdade', 'Vila Carrão',\n",
              "       'Jardim Brasil (Zona Sul)', 'Parque São Lucas', 'Jardim Floresta',\n",
              "       'Chácara Mafalda', 'Vila ESão Pauloerança', 'Vila Nova Caledônia',\n",
              "       'Alto da Boa Vista', 'Vila Medeiros', 'Vila América',\n",
              "       'Vila Analia', 'Parque Santa Rita', 'Vila Moraes',\n",
              "       'Vila Rui Barbosa', 'Vila Bela', 'Jardim Amália',\n",
              "       'Parque da Vila Prudente', 'Vila Santana', 'Vila Canero',\n",
              "       'Vila Primavera', 'Brasilândia', 'Vila do Encontro',\n",
              "       'Jardim Ernestina', 'Jabaquara', 'Jardim Maria Duarte',\n",
              "       'Cidade Vargas', 'Jardim Hípico', 'Parada XV de Novembro',\n",
              "       'Jardim Bélgica', 'Jardim Jussara', 'Vila Formosa',\n",
              "       'Jardim São Carlos (Zona Sul)', 'Parque dos Príncipes',\n",
              "       'Vila Gomes Cardim', 'Vila Polopoli', 'Vila Macedópolis',\n",
              "       'Vila Virginia', 'Vila Boaçava', 'Água Branca', 'Bela Aliança',\n",
              "       'Tremembé', 'Cerqueira César', 'Jardim Cidade Pirituba',\n",
              "       'Vila Agueda', 'Vila Firmiano Pinto', 'Jardim Monte Alegre',\n",
              "       'Jardim Patente', 'Vila Buenos Aires', 'Jardim Jabaquara',\n",
              "       'Jardim Morro Verde', 'Vila Santa Catarina', 'Vila Califórnia',\n",
              "       'Jardim Ponte Rasa', 'Jardim Marília', 'Vila Guedes',\n",
              "       'Vila Congonhas', 'Jardim Vivan', 'Jardim Vila Carrão', 'Sacomã',\n",
              "       'Jardim Castelo', 'Vila Barbosa', 'Parque Imperial', 'Campininha',\n",
              "       'Jaraguá', 'Jardim Coimbra', 'Jardim Anália Franco',\n",
              "       'Vila Bancária Munhoz', 'Vila Ester (Zona Norte)', 'Brás',\n",
              "       'Alto da Mooca', 'Ferreira', 'Jardim Cidália', 'Cidade Ademar',\n",
              "       'Nova Piraju', \"Jardim D'Abril\", 'Paraisópolis',\n",
              "       'Parque Nações Unidas', 'Vila Gumercindo', 'Jardim Aeroporto',\n",
              "       'Brooklin', 'Vila Caraguatá', 'Jardim do Colégio (Zona Norte)',\n",
              "       'Parque Peruche', 'Chácara Belenzinho',\n",
              "       'Conjunto Residencial Butantã', 'Vila das Belezas',\n",
              "       'Burgo Paulista', 'Vila Paulista', 'Jardim Japão',\n",
              "       'Praia Paulistinha', 'Vila Antonina', 'Vila Sao Paulo',\n",
              "       'Vila Monte Alegre', 'Jardim Heliomar', 'Vila Ivg', 'Vila Curuçá',\n",
              "       'Vila Vera', 'Água Funda', 'Vila Romero', 'Vila Isa',\n",
              "       'Vila Talarico', 'Jardim Peri', 'Vila Dom Pedro I', 'Vila Simone',\n",
              "       'Vila Nivi', 'Vila São Paulo', 'Vila Bela Aliança',\n",
              "       'Vila São José (Ipiranga)', 'Vila Marieta', 'Vila das Mercês',\n",
              "       'Jardim Sarah', 'Vila Gomes', 'Vila Ayrosa', 'Jardim Dom Bosco',\n",
              "       'Parque Savoy City', 'Jardim Ester Yolanda', 'Chácara Flora',\n",
              "       'Vila Elvira', 'Vila Romano', 'Jardim Guarau',\n",
              "       'Vila Santo Estéfano', 'Vila Paulo Silas', 'Vila Carmosina',\n",
              "       'Jardim das Vertentes', 'Conjunto Residencial Morada do Sol',\n",
              "       'Jardim Tremembe', 'Parque Casa de Pedra', 'Vila Vasconcelos',\n",
              "       'Jardim Boa Vista (Zona Oeste)', 'Jardim Sul São Paulo',\n",
              "       'Jardim Vergueiro (Sacomã)', 'Vila Mira', 'Jardim Maria Estela',\n",
              "       'Jardim Rincão', 'Jardim Sabará', 'Aricanduva',\n",
              "       'Jardim Palmares (Zona Sul)', 'Vila Regente Feijó', 'Vila Darli',\n",
              "       'Jardim Nice', 'Vila Constancia', 'Jardim Pirituba', 'Vila Marari',\n",
              "       'Parque Maria Domitila', 'Parque Santo Antônio (Aricanduva)',\n",
              "       'Jardim Cidalia', 'Vila Tiradentes', 'Vila Sonia',\n",
              "       'Vila Gertrudes', 'Parque Edu Chaves', 'Parque São Rafael',\n",
              "       'Conjunto Habitacional Castro Alves', 'Cidade Mãe do Céu',\n",
              "       'Vila da Saúde', 'Itaquera', 'Vila Conde do Pinhal',\n",
              "       'Parque Monteiro Soares', 'Jardim Leonor Mendes de Barros',\n",
              "       'Vila Santa Clara', 'Sítio do Mandaqui', 'Jardim Independência',\n",
              "       'Vila Nova Pauliceia', 'Cidade Antônio Estevão de Carvalho',\n",
              "       'Vila Maria Alta', 'Vila Ponte Rasa', 'Jardim Guanca',\n",
              "       'Engenheiro Goulart', 'Vila Mascote', 'Jardim Vila Formosa',\n",
              "       'Cupecê', 'Jardim Itacolomi', 'Água Rasa', 'Parque Alves de Lima'],\n",
              "      dtype=object)"
            ]
          },
          "metadata": {},
          "execution_count": 152
        }
      ]
    }
  ]
}